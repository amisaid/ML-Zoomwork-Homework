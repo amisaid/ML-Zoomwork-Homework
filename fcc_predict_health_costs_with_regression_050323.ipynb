{
  "cells": [
    {
      "cell_type": "markdown",
      "metadata": {
        "id": "view-in-github",
        "colab_type": "text"
      },
      "source": [
        "<a href=\"https://colab.research.google.com/github/amisaid/ML-Zoomwork-Homework/blob/main/fcc_predict_health_costs_with_regression_050323.ipynb\" target=\"_parent\"><img src=\"https://colab.research.google.com/assets/colab-badge.svg\" alt=\"Open In Colab\"/></a>"
      ]
    },
    {
      "cell_type": "code",
      "execution_count": null,
      "metadata": {
        "id": "1rRo8oNqZ-Rj"
      },
      "outputs": [],
      "source": [
        "# Import libraries. You may or may not use all of these.\n",
        "!pip install -q git+https://github.com/tensorflow/docs\n",
        "import matplotlib.pyplot as plt\n",
        "import numpy as np\n",
        "import pandas as pd\n",
        "\n",
        "try:\n",
        "  # %tensorflow_version only exists in Colab.\n",
        "  %tensorflow_version 2.x\n",
        "except Exception:\n",
        "  pass\n",
        "import tensorflow as tf\n",
        "\n",
        "from tensorflow import keras\n",
        "from tensorflow.keras import layers\n",
        "\n",
        "import tensorflow_docs as tfdocs\n",
        "import tensorflow_docs.plots\n",
        "import tensorflow_docs.modeling"
      ]
    },
    {
      "cell_type": "code",
      "execution_count": null,
      "metadata": {
        "id": "CiX2FI4gZtTt"
      },
      "outputs": [],
      "source": [
        "# Import data\n",
        "!wget https://cdn.freecodecamp.org/project-data/health-costs/insurance.csv\n",
        "dataset = pd.read_csv('insurance.csv')\n",
        "dataset.tail()"
      ]
    },
    {
      "cell_type": "markdown",
      "source": [
        "### Assessing the dataset"
      ],
      "metadata": {
        "id": "qor-om6x4aHl"
      }
    },
    {
      "cell_type": "code",
      "source": [
        "## Checking null values in the dataframe\n",
        "dataset.isnull().sum()"
      ],
      "metadata": {
        "id": "gskBI8-a3cKA"
      },
      "execution_count": null,
      "outputs": []
    },
    {
      "cell_type": "code",
      "source": [
        "# Statistical summary of the data \n",
        "dataset.describe()"
      ],
      "metadata": {
        "id": "rBg7rsSH40vr"
      },
      "execution_count": null,
      "outputs": []
    },
    {
      "cell_type": "code",
      "source": [
        "# Checking the data formats\n",
        "dataset.dtypes"
      ],
      "metadata": {
        "id": "OdPsweQ6Zdf7"
      },
      "execution_count": null,
      "outputs": []
    },
    {
      "cell_type": "code",
      "source": [
        "# Setting the numerical rows into a list\n",
        "numerical_ds = [\"age\", \"bmi\", \"children\", \"expenses\"]\n",
        "categorical_ds = [\"sex\", \"smoker\", \"region\"]\n",
        "\n",
        "numerical_ds, categorical_ds"
      ],
      "metadata": {
        "id": "ZhNMXwLaZq10"
      },
      "execution_count": null,
      "outputs": []
    },
    {
      "cell_type": "code",
      "source": [
        "#Checking unique values in the dataframe\n",
        "for col in dataset.columns:\n",
        "    print(col)\n",
        "    print(dataset[col].unique()[:5])\n",
        "    print(dataset[col].nunique())\n",
        "    print()\n"
      ],
      "metadata": {
        "id": "sp32U4MjbBJ9"
      },
      "execution_count": null,
      "outputs": []
    },
    {
      "cell_type": "markdown",
      "source": [
        "### Task 1: \n",
        "Converting categorical to numerical and splitting dataset into 80% for training and 20% for testing"
      ],
      "metadata": {
        "id": "8SfvPTno23lV"
      }
    },
    {
      "cell_type": "code",
      "execution_count": null,
      "metadata": {
        "id": "LcopvQh3X-kX"
      },
      "outputs": [],
      "source": [
        "categorical = {}\n",
        "\n",
        "for c in categorical_ds:\n",
        "    categorical[c] = list(dataset[c].value_counts().head().index)\n",
        "\n",
        "# categorical\n",
        "\n",
        "# Converting categorical data to numerical \n",
        "for name, values in categorical.items():\n",
        "        for value in values:\n",
        "            dataset['%s_%s' % (name, value)] = (dataset[name] == value).astype(int)\n",
        "            numerical_ds.append('%s_%s' % (name, value))\n",
        "\n",
        "\n",
        "df_full = dataset[numerical_ds]\n",
        "df_full.head()"
      ]
    },
    {
      "cell_type": "code",
      "source": [
        "df_full.columns"
      ],
      "metadata": {
        "id": "MVu8hd8S2vGi"
      },
      "execution_count": null,
      "outputs": []
    },
    {
      "cell_type": "markdown",
      "source": [
        "**Splitting the data into 80% training and 20% for testing**"
      ],
      "metadata": {
        "id": "oliUNDeHowP7"
      }
    },
    {
      "cell_type": "code",
      "source": [
        "# Checking the length of the dataset\n",
        "n = len(df_full)\n",
        "n"
      ],
      "metadata": {
        "id": "ZYHuZMp72u7m"
      },
      "execution_count": null,
      "outputs": []
    },
    {
      "cell_type": "code",
      "source": [
        "n_test = int(n * 0.2)\n",
        "n_train = n - n_test\n",
        "\n",
        "# Verifying the sums tally\n",
        "n_train, n_test, (n_train + n_test)\n"
      ],
      "metadata": {
        "id": "P7j8CXoH2uup"
      },
      "execution_count": null,
      "outputs": []
    },
    {
      "cell_type": "code",
      "source": [
        "train_dataset = df_full.iloc[:n_train]\n",
        "test_dataset = df_full.iloc[n_train:]\n"
      ],
      "metadata": {
        "id": "gyJtO2mur-JL"
      },
      "execution_count": null,
      "outputs": []
    },
    {
      "cell_type": "markdown",
      "source": [
        "### Task 2:\n",
        "\n",
        "Creating labels by `pop` of \"expenses\" column "
      ],
      "metadata": {
        "id": "-Wc4GTxsvjuY"
      }
    },
    {
      "cell_type": "code",
      "source": [
        "# Creating labels by \"pop\" of \"expense\" column\n",
        "train_labels = train_dataset.pop(\"expenses\")\n",
        "test_labels = test_dataset.pop(\"expenses\")\n",
        "\n",
        "# Confirming pop is dropped from test_dataset\n",
        "test_dataset.columns"
      ],
      "metadata": {
        "id": "8fUGDFHhuGqJ"
      },
      "execution_count": null,
      "outputs": []
    },
    {
      "cell_type": "markdown",
      "source": [
        "### Task 3:\n",
        "\n",
        "Creating a model and training using the `train_dataset` data."
      ],
      "metadata": {
        "id": "BOOf0v8uvvJ6"
      }
    },
    {
      "cell_type": "code",
      "source": [
        "normalizer = tf.keras.layers.Normalization(axis=-1)"
      ],
      "metadata": {
        "id": "VIgwxcpLsxc1"
      },
      "execution_count": null,
      "outputs": []
    },
    {
      "cell_type": "code",
      "source": [
        "model = tf.keras.Sequential([\n",
        "    normalizer,\n",
        "    layers.Dense(units=1)\n",
        "])"
      ],
      "metadata": {
        "id": "rkCKtS81tYab"
      },
      "execution_count": null,
      "outputs": []
    },
    {
      "cell_type": "code",
      "source": [
        "# Configure the model with Keras Model.compile and \n",
        "# train with Model.fit for 100 epochs:\n",
        "model.compile(\n",
        "    optimizer=tf.keras.optimizers.Adam(learning_rate=0.98),\n",
        "    loss='mae',\n",
        "    metrics=['mae', 'mse'])"
      ],
      "metadata": {
        "id": "Vpm3je0vuZyH"
      },
      "execution_count": null,
      "outputs": []
    },
    {
      "cell_type": "code",
      "source": [
        "%%time\n",
        "history = model.fit(\n",
        "    train_dataset,\n",
        "    train_labels,\n",
        "    epochs=2000,\n",
        "    # Suppress logging.\n",
        "    verbose=0)"
      ],
      "metadata": {
        "id": "LPgXrXOLul5U"
      },
      "execution_count": null,
      "outputs": []
    },
    {
      "cell_type": "code",
      "source": [],
      "metadata": {
        "id": "3DO4u9t2zmht"
      },
      "execution_count": null,
      "outputs": []
    },
    {
      "cell_type": "code",
      "source": [
        "test_results = {}\n",
        "\n",
        "test_results['model'] = model.evaluate(\n",
        "    test_dataset, test_labels, verbose=0)"
      ],
      "metadata": {
        "id": "cfw9rvuHvFu7"
      },
      "execution_count": null,
      "outputs": []
    },
    {
      "cell_type": "code",
      "source": [
        "test_results"
      ],
      "metadata": {
        "id": "ov4QDI5OvZIs"
      },
      "execution_count": null,
      "outputs": []
    },
    {
      "cell_type": "markdown",
      "source": [
        "### Final Task:\n",
        "\n",
        "Assessing the accuracy of the trained model"
      ],
      "metadata": {
        "id": "5qyXyrbbwfKN"
      }
    },
    {
      "cell_type": "code",
      "execution_count": null,
      "metadata": {
        "id": "Xe7RXH3N3CWU"
      },
      "outputs": [],
      "source": [
        "# RUN THIS CELL TO TEST YOUR MODEL. DO NOT MODIFY CONTENTS.\n",
        "# Test model by checking how well the model generalizes using the test set.\n",
        "loss, mae, mse = model.evaluate(test_dataset, test_labels, verbose=2)\n",
        "\n",
        "print(\"Testing set Mean Abs Error: {:5.2f} expenses\".format(mae))\n",
        "\n",
        "if mae < 3500:\n",
        "  print(\"You passed the challenge. Great job!\")\n",
        "else:\n",
        "  print(\"The Mean Abs Error must be less than 3500. Keep trying.\")\n",
        "\n",
        "# Plot predictions.\n",
        "test_predictions = model.predict(test_dataset).flatten()\n",
        "\n",
        "a = plt.axes(aspect='equal')\n",
        "plt.scatter(test_labels, test_predictions)\n",
        "plt.xlabel('True values (expenses)')\n",
        "plt.ylabel('Predictions (expenses)')\n",
        "lims = [0, 50000]\n",
        "plt.xlim(lims)\n",
        "plt.ylim(lims)\n",
        "_ = plt.plot(lims,lims)\n"
      ]
    },
    {
      "cell_type": "code",
      "source": [
        "model.predict(train_dataset[:6])"
      ],
      "metadata": {
        "id": "23KPwayKzNKl"
      },
      "execution_count": null,
      "outputs": []
    },
    {
      "cell_type": "code",
      "source": [
        "train_labels[:6]"
      ],
      "metadata": {
        "id": "179twITnoE4g"
      },
      "execution_count": null,
      "outputs": []
    },
    {
      "cell_type": "code",
      "source": [],
      "metadata": {
        "id": "VEIqoNXAoZp9"
      },
      "execution_count": null,
      "outputs": []
    }
  ],
  "metadata": {
    "colab": {
      "private_outputs": true,
      "provenance": [],
      "toc_visible": true,
      "include_colab_link": true
    },
    "kernelspec": {
      "display_name": "Python 3",
      "name": "python3"
    }
  },
  "nbformat": 4,
  "nbformat_minor": 0
}